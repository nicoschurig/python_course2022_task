{
 "cells": [
  {
   "cell_type": "markdown",
   "metadata": {},
   "source": [
    "# Tkinter Tutorial\n",
    "Getting started with GUI-Applications in Python. <br>\n",
    "This Jupyter Notebook will contain the basics of **Tkinter**, that are needed to realize the given developement task later in this project."
   ]
  },
  {
   "cell_type": "markdown",
   "metadata": {},
   "source": []
  },
  {
   "cell_type": "markdown",
   "metadata": {},
   "source": []
  },
  {
   "cell_type": "markdown",
   "metadata": {},
   "source": [
    "## What is Tkinter\n",
    "\n",
    "```\n",
    "....................\n",
    "|      Python      | -> is not allowed to use the services of Tcl/Tk -> Tkinter is needed\n",
    "....................\n",
    "|      Tcl/Tk      | -> **T**ool **C**ommand **L**anguage (script-language with own interpreter) -> **T**ool **K**it (used for the compilation of GUIs)\n",
    "....................\n",
    "| Operating System |\n",
    "....................\n",
    "|    Hardware      |\n",
    "....................\n",
    "\n",
    "....................\n",
    "|      Python      |\n",
    "....................\n",
    "|     Tkinter      | -> allows python to use Tcl/Tk\n",
    "....................\n",
    "|      Tcl/Tk      |\n",
    "....................\n",
    "| Operating System |\n",
    "....................\n",
    "|     Hardware     |\n",
    "....................\n",
    "```\n",
    "\n"
   ]
  }
 ],
 "metadata": {
  "language_info": {
   "name": "python"
  },
  "orig_nbformat": 4
 },
 "nbformat": 4,
 "nbformat_minor": 2
}
