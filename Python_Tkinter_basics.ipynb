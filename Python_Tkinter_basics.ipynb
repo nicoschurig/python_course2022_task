{
 "cells": [
  {
   "cell_type": "markdown",
   "metadata": {},
   "source": [
    "# Tkinter Tutorial\n",
    "Getting started with GUI-Applications in Python. <br>\n",
    "This Jupyter Notebook will contain the basics of **Tkinter**, that are needed to realize the given developement task later in this project."
   ]
  },
  {
   "cell_type": "markdown",
   "metadata": {},
   "source": []
  }
 ],
 "metadata": {
  "language_info": {
   "name": "python"
  },
  "orig_nbformat": 4
 },
 "nbformat": 4,
 "nbformat_minor": 2
}
