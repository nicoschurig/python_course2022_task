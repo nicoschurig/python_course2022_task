{
 "cells": [
  {
   "cell_type": "markdown",
   "metadata": {},
   "source": [
    "# Tkinter Tutorial\n",
    "Getting started with GUI-Applications in Python. <br>\n",
    "This Jupyter Notebook will contain the basics of **Tkinter**, that are needed to realize the given developement task later in this project."
   ]
  },
  {
   "cell_type": "markdown",
   "metadata": {},
   "source": [
    "## What is Tkinter\n",
    "\n",
    "```\n",
    "....................\n",
    "|      Python      | -> is not allowed to use the services of Tcl/Tk -> Tkinter is needed\n",
    "....................\n",
    "|      Tcl/Tk      | -> **T**ool **C**ommand **L**anguage (script-language with own interpreter) -> **T**ool **K**it (used for the compilation of GUIs)\n",
    "....................\n",
    "| Operating System |\n",
    "....................\n",
    "|    Hardware      |\n",
    "....................\n",
    "\n",
    "....................\n",
    "|      Python      |\n",
    "....................\n",
    "|     Tkinter      | -> allows python to use Tcl/Tk\n",
    "....................\n",
    "|      Tcl/Tk      |\n",
    "....................\n",
    "| Operating System |\n",
    "....................\n",
    "|     Hardware     |\n",
    "....................\n",
    "```\n",
    "\n"
   ]
  },
  {
   "cell_type": "markdown",
   "metadata": {},
   "source": [
    "## How to use Tkinter\n",
    "Tkinter is a built in module and comes with the installed python version. Just do:\n",
    "```\n",
    "tkinter._test()\n",
    "```\n",
    "opens a test window"
   ]
  },
  {
   "cell_type": "code",
   "execution_count": 2,
   "metadata": {},
   "outputs": [],
   "source": [
    "import tkinter\n",
    "\n",
    "tkinter._test()"
   ]
  },
  {
   "cell_type": "code",
   "execution_count": null,
   "metadata": {},
   "outputs": [],
   "source": []
  }
 ],
 "metadata": {
  "interpreter": {
   "hash": "aee8b7b246df8f9039afb4144a1f6fd8d2ca17a180786b69acc140d282b71a49"
  },
  "kernelspec": {
   "display_name": "Python 3.11.0 64-bit",
   "name": "python3"
  },
  "language_info": {
   "codemirror_mode": {
    "name": "ipython",
    "version": 3
   },
   "file_extension": ".py",
   "mimetype": "text/x-python",
   "name": "python",
   "nbconvert_exporter": "python",
   "pygments_lexer": "ipython3",
   "version": "3.11.0"
  },
  "orig_nbformat": 4
 },
 "nbformat": 4,
 "nbformat_minor": 2
}
