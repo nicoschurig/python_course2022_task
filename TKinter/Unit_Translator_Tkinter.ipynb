{
 "cells": [
  {
   "cell_type": "markdown",
   "metadata": {},
   "source": [
    "# Unit Translator Project"
   ]
  },
  {
   "cell_type": "markdown",
   "metadata": {},
   "source": [
    "**Goal:** Translate miles in kilometers."
   ]
  },
  {
   "cell_type": "code",
   "execution_count": 1,
   "metadata": {},
   "outputs": [],
   "source": [
    "import tkinter as tk\n",
    "from tkinter import ttk\n",
    "\n",
    "root = tk.Tk()\n",
    "root.geometry(\"300x180\")\n",
    "root.title(\"Unit Translator\")\n",
    "\n",
    "root.mainloop()"
   ]
  },
  {
   "cell_type": "code",
   "execution_count": 4,
   "metadata": {},
   "outputs": [],
   "source": [
    "import tkinter as tk\n",
    "from tkinter import ttk\n",
    "\n",
    "root = tk.Tk()\n",
    "root.geometry(\"300x180\")\n",
    "root.title(\"Unit Translator\")\n",
    "\n",
    "miles_label = ttk.Label(root, text = \"Miles:\", font = (\"Arial\", 18))\n",
    "miles_label.pack(side = \"top\", fill = \"x\", padx = 5, pady = 2)\n",
    "\n",
    "root.mainloop()"
   ]
  },
  {
   "cell_type": "code",
   "execution_count": 6,
   "metadata": {},
   "outputs": [],
   "source": [
    "import tkinter as tk\n",
    "from tkinter import ttk\n",
    "\n",
    "root = tk.Tk()\n",
    "root.geometry(\"300x180\")\n",
    "root.title(\"Unit Translator\")\n",
    "\n",
    "miles_label = ttk.Label(root, text = \"Miles:\", font = (\"Arial\", 18))\n",
    "miles_label.pack(side = \"top\", fill = \"x\", padx = 5, pady = 2)\n",
    "\n",
    "miles_entry = ttk.Entry(root, font = (\"Arial\", 18))\n",
    "miles_entry.pack(side = \"top\", fill = \"x\", padx = 5, pady = 2)\n",
    "\n",
    "root.mainloop()"
   ]
  },
  {
   "cell_type": "code",
   "execution_count": 8,
   "metadata": {},
   "outputs": [],
   "source": [
    "import tkinter as tk\n",
    "from tkinter import ttk\n",
    "\n",
    "root = tk.Tk()\n",
    "root.geometry(\"300x180\")\n",
    "root.title(\"Unit Translator\")\n",
    "\n",
    "miles_label = ttk.Label(root, text = \"Miles:\", font = (\"Arial\", 18))\n",
    "miles_label.pack(side = \"top\", fill = \"x\", padx = 5, pady = 2)\n",
    "\n",
    "miles_entry = ttk.Entry(root, font = (\"Arial\", 18))\n",
    "miles_entry.pack(side = \"top\", fill = \"x\", padx = 5, pady = 2)\n",
    "\n",
    "km_label = ttk.Label(root, text = \"Kilometer:\", font = (\"Arial\", 18))\n",
    "km_label.pack(side = \"top\", fill = \"x\", padx = 5, pady = 2)\n",
    "\n",
    "root.mainloop()"
   ]
  }
 ],
 "metadata": {
  "interpreter": {
   "hash": "aee8b7b246df8f9039afb4144a1f6fd8d2ca17a180786b69acc140d282b71a49"
  },
  "kernelspec": {
   "display_name": "Python 3.11.0 64-bit",
   "name": "python3"
  },
  "language_info": {
   "codemirror_mode": {
    "name": "ipython",
    "version": 3
   },
   "file_extension": ".py",
   "mimetype": "text/x-python",
   "name": "python",
   "nbconvert_exporter": "python",
   "pygments_lexer": "ipython3",
   "version": "3.11.0"
  },
  "orig_nbformat": 4
 },
 "nbformat": 4,
 "nbformat_minor": 2
}
