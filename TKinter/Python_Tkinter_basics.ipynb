{
 "cells": [
  {
   "cell_type": "markdown",
   "metadata": {},
   "source": [
    "# Tkinter Tutorial\n",
    "Getting started with GUI-Applications in Python. <br>\n",
    "This Jupyter Notebook will contain the basics of **Tkinter**, that are needed to realize the given developement task later in this project."
   ]
  },
  {
   "cell_type": "markdown",
   "metadata": {},
   "source": [
    "## What is Tkinter\n",
    "\n",
    "```\n",
    "....................\n",
    "|      Python      | -> is not allowed to use the services of Tcl/Tk -> Tkinter is needed\n",
    "....................\n",
    "|      Tcl/Tk      | -> **T**ool **C**ommand **L**anguage (script-language with own interpreter) -> **T**ool **K**it (used for the compilation of GUIs)\n",
    "....................\n",
    "| Operating System |\n",
    "....................\n",
    "|    Hardware      |\n",
    "....................\n",
    "\n",
    "....................\n",
    "|      Python      |\n",
    "....................\n",
    "|     Tkinter      | -> allows python to use Tcl/Tk\n",
    "....................\n",
    "|      Tcl/Tk      |\n",
    "....................\n",
    "| Operating System |\n",
    "....................\n",
    "|     Hardware     |\n",
    "....................\n",
    "```\n",
    "\n"
   ]
  },
  {
   "cell_type": "markdown",
   "metadata": {},
   "source": [
    "## How to use Tkinter\n",
    "Tkinter is a built in module and comes with the installed python version. Just do:\n",
    "```\n",
    "tkinter._test()\n",
    "```\n",
    "opens a test window"
   ]
  },
  {
   "cell_type": "code",
   "execution_count": 1,
   "metadata": {},
   "outputs": [],
   "source": [
    "import tkinter\n",
    "\n",
    "tkinter._test()"
   ]
  },
  {
   "cell_type": "code",
   "execution_count": 2,
   "metadata": {},
   "outputs": [],
   "source": [
    "import tkinter\n",
    "\n",
    "root = tkinter.Tk()             #tkinter.Tk() generates Tk-object (which is main window)\n",
    "root.mainloop()                 #start tkinter event-loop"
   ]
  },
  {
   "cell_type": "code",
   "execution_count": 3,
   "metadata": {},
   "outputs": [],
   "source": [
    "import tkinter\n",
    "\n",
    "root = tkinter.Tk()\n",
    "label1 = tkinter.Label(root, text = \"Hallo Welt!\")                 #generates object of class Label (first argument = parent, second = keyword-argument)\n",
    "label1.pack()                                                      #layout-manager called with pack (where label is located)\n",
    "root.mainloop()    "
   ]
  },
  {
   "cell_type": "code",
   "execution_count": 4,
   "metadata": {},
   "outputs": [],
   "source": [
    "import tkinter as tk\n",
    "\n",
    "root = tk.Tk()\n",
    "label1 = tk.Label(root, text = \"Hallo Welt!\") \n",
    "label1.pack()                                                 \n",
    "root.mainloop()    "
   ]
  },
  {
   "cell_type": "markdown",
   "metadata": {},
   "source": [
    "## Event Loop\n",
    "- stops the execution of the python code and starts the tkinter event loop (everything below that code won´t be executed)\n",
    "- checks multiple times per second if an event is executed (event = interaction of the user with the GUI)\n",
    "- in the background there is an implementation on how the GUI should react in a given event (for example \"click-event\")\n",
    "- if the user presses on the red cross, to close the window, the event loop will no longer be executed -> the python code will resume execution"
   ]
  },
  {
   "cell_type": "markdown",
   "metadata": {},
   "source": []
  },
  {
   "cell_type": "code",
   "execution_count": 6,
   "metadata": {},
   "outputs": [
    {
     "name": "stdout",
     "output_type": "stream",
     "text": [
      "Test\n"
     ]
    }
   ],
   "source": [
    "import tkinter as tk\n",
    "\n",
    "root = tk.Tk()\n",
    "label1 = tk.Label(root, text = \"Hallo Welt!\") \n",
    "label1.pack()                                                 \n",
    "root.mainloop()\n",
    "\n",
    "print(\"Test\")           #after closing the window, this will be executed"
   ]
  },
  {
   "cell_type": "markdown",
   "metadata": {},
   "source": [
    "## Modifying the Main-Window\n",
    "\n",
    "### **Title**\n",
    "- `.title()`\n",
    "- standart title is `tk`"
   ]
  },
  {
   "cell_type": "code",
   "execution_count": 8,
   "metadata": {},
   "outputs": [],
   "source": [
    "import tkinter as tk\n",
    "\n",
    "root = tk.Tk()\n",
    "root.title(\"New title\")                     #setting a new title\n",
    "\n",
    "label1 = tk.Label(root, text = \"Hallo Welt!\") \n",
    "label1.pack()\n",
    "\n",
    "root.mainloop()  "
   ]
  },
  {
   "cell_type": "markdown",
   "metadata": {},
   "source": [
    "### **Size**\n",
    "- `.title()`"
   ]
  },
  {
   "cell_type": "code",
   "execution_count": 9,
   "metadata": {},
   "outputs": [],
   "source": [
    "import tkinter as tk\n",
    "\n",
    "root = tk.Tk()\n",
    "root.title(\"New title\")\n",
    "root.geometry(\"800x400\")                   #string argument: \"with in pixel\"\"x\"\"height in pixel\"\n",
    "\n",
    "label1 = tk.Label(root, text = \"Hallo Welt!\") \n",
    "label1.pack()\n",
    "\n",
    "root.mainloop()  "
   ]
  },
  {
   "cell_type": "markdown",
   "metadata": {},
   "source": [
    "#### Minimum\n",
    "- `.minsize()`"
   ]
  },
  {
   "cell_type": "code",
   "execution_count": 11,
   "metadata": {},
   "outputs": [],
   "source": [
    "import tkinter as tk\n",
    "\n",
    "root = tk.Tk()\n",
    "root.title(\"New title\")\n",
    "root.geometry(\"800x400\")\n",
    "root.minsize(width = 250, height = 250)             #minimum size of the window is 250x250 pixel -> can't be smaller\n",
    "\n",
    "label1 = tk.Label(root, text = \"Hallo Welt!\") \n",
    "label1.pack()\n",
    "\n",
    "root.mainloop()  "
   ]
  },
  {
   "cell_type": "markdown",
   "metadata": {},
   "source": [
    "#### Maximum \n",
    "- `.maxsize()`"
   ]
  },
  {
   "cell_type": "code",
   "execution_count": 12,
   "metadata": {},
   "outputs": [],
   "source": [
    "import tkinter as tk\n",
    "\n",
    "root = tk.Tk()\n",
    "root.title(\"New title\")\n",
    "root.geometry(\"800x400\")\n",
    "root.minsize(width = 250, height = 250)\n",
    "root.maxsize(width = 600, height = 600)             #maximum size of the window is 600x600 pixel -> can't be larger\n",
    "\n",
    "label1 = tk.Label(root, text = \"Hallo Welt!\") \n",
    "label1.pack()\n",
    "\n",
    "root.mainloop()  "
   ]
  },
  {
   "cell_type": "markdown",
   "metadata": {},
   "source": [
    "#### Disable size configuration\n",
    "- `.resizeable()`"
   ]
  },
  {
   "cell_type": "code",
   "execution_count": 13,
   "metadata": {},
   "outputs": [],
   "source": [
    "import tkinter as tk\n",
    "\n",
    "root = tk.Tk()\n",
    "root.title(\"New title\")\n",
    "root.geometry(\"800x400\")\n",
    "root.resizable(width = False, height = False)\n",
    "\n",
    "label1 = tk.Label(root, text = \"Hallo Welt!\") \n",
    "label1.pack()\n",
    "\n",
    "root.mainloop()  "
   ]
  },
  {
   "cell_type": "markdown",
   "metadata": {},
   "source": [
    "## Layout Manager\n",
    "- enables the placement of widgets in the GUI"
   ]
  },
  {
   "cell_type": "markdown",
   "metadata": {},
   "source": [
    "### What is the purpose od a layout manager?\n",
    "- sometimes also _\"geometry manager\"_ or _\"layout algorithms\"_\n",
    "- describes the mechanism, that is used to organise, place and position widgets in the Tkinter main window"
   ]
  },
  {
   "cell_type": "markdown",
   "metadata": {},
   "source": [
    "### Basic layout manager in Tkinter\n",
    "- Pack Layout Manager\n",
    "- Grid Layout Manager\n",
    "- Place Layout Manager"
   ]
  },
  {
   "cell_type": "markdown",
   "metadata": {},
   "source": [
    "### `Pack` layout manager in detail"
   ]
  },
  {
   "cell_type": "code",
   "execution_count": 7,
   "metadata": {},
   "outputs": [],
   "source": [
    "import tkinter as tk\n",
    "\n",
    "root = tk.Tk()\n",
    "root.geometry(\"400x400\")\n",
    "\n",
    "\n",
    "label1 = tk.Label(root, text = \"Label 1\", bg = \"green\")                 #bg sets background colour of label1 \n",
    "label1.pack()\n",
    "\n",
    "label2 = tk.Label(root, text = \"Label 2\", bg = \"red\")\n",
    "label2.pack()\n",
    "\n",
    "root.mainloop()  "
   ]
  },
  {
   "cell_type": "markdown",
   "metadata": {},
   "source": [
    "#### Keyword-Arguments\n",
    "- defines, where a widget is placed in the window\n",
    "- it reserves the whole horizontal space next to the label\n",
    "- `side` is the position of the widget in the window\n",
    "- `fill` fills the whole allocated space in the window\n",
    "- `expand` expands the space in y-direction as much as possible if True"
   ]
  },
  {
   "cell_type": "code",
   "execution_count": 16,
   "metadata": {},
   "outputs": [],
   "source": [
    "import tkinter as tk\n",
    "\n",
    "root = tk.Tk()\n",
    "root.geometry(\"400x400\")\n",
    "\n",
    "\n",
    "label1 = tk.Label(root, text = \"Label 1\", bg = \"green\")\n",
    "label1.pack(side = \"top\", fill = \"y\", expand = True)                                        #side = \"top\" is the default value of pack\n",
    "                                                                                            #fill = fills the whole allocated space in the x direction (\"y\" -> y direction, \"both\" -> x and y)\n",
    "\n",
    "label2 = tk.Label(root, text = \"Label 2\", bg = \"red\")\n",
    "label2.pack(side = \"top\")\n",
    "\n",
    "root.mainloop() "
   ]
  },
  {
   "cell_type": "code",
   "execution_count": 15,
   "metadata": {},
   "outputs": [],
   "source": [
    "import tkinter as tk\n",
    "\n",
    "root = tk.Tk()\n",
    "root.geometry(\"400x400\")\n",
    "\n",
    "\n",
    "label1 = tk.Label(root, text = \"Label 1\", bg = \"green\")\n",
    "label1.pack(side = \"top\", fill = \"y\", expand = True)\n",
    "\n",
    "label2 = tk.Label(root, text = \"Label 2\", bg = \"red\")\n",
    "label2.pack(side = \"top\", expand = True, fill = \"y\")\n",
    "\n",
    "root.mainloop() "
   ]
  },
  {
   "cell_type": "code",
   "execution_count": 17,
   "metadata": {},
   "outputs": [],
   "source": [
    "import tkinter as tk\n",
    "\n",
    "root = tk.Tk()\n",
    "root.geometry(\"400x400\")\n",
    "\n",
    "\n",
    "label1 = tk.Label(root, text = \"Label 1\", bg = \"green\")\n",
    "label1.pack(side = \"top\", fill = \"y\", expand = True)\n",
    "\n",
    "label2 = tk.Label(root, text = \"Label 2\", bg = \"red\")\n",
    "label2.pack(side = \"top\", expand = True, fill = \"both\")\n",
    "\n",
    "root.mainloop() "
   ]
  },
  {
   "cell_type": "markdown",
   "metadata": {},
   "source": [
    "## ttk Widget vs. tk Widget"
   ]
  },
  {
   "cell_type": "code",
   "execution_count": null,
   "metadata": {},
   "outputs": [],
   "source": [
    "import tkinter as tk\n",
    "\n",
    "root = tk.Tk()\n",
    "root.geometry(\"400x400\")\n",
    "\n",
    "label1 = tk.Label(root, text = \"Label 1\", bg = \"green\")\n",
    "label1.pack()                                                   #= tk Widget\n",
    "\n",
    "root.mainloop() "
   ]
  },
  {
   "cell_type": "markdown",
   "metadata": {},
   "source": [
    "### ttk Widgets\n",
    "**Idea:** the code that implements the functionality of a widget is being separated from the code, that implements the appearence of a widget <br>\n",
    "-> is not necessary, but can be done <br>\n",
    "-> results in a better clarity <br>\n",
    "-> fast changes possible (for exapmle: all widgets can be changed at once <br>\n",
    "-> 18 Widgets instead of 12(tk) <br>\n",
    "-> better appearence across different platforms (Themes)"
   ]
  },
  {
   "cell_type": "code",
   "execution_count": 20,
   "metadata": {},
   "outputs": [],
   "source": [
    "import tkinter as tk\n",
    "from tkinter import ttk\n",
    "\n",
    "root = tk.Tk()\n",
    "root.geometry(\"400x400\")\n",
    "\n",
    "label1 = tk.Label(root, text = \"Label 1\", bg = \"green\")\n",
    "label1.pack()\n",
    "\n",
    "label2 = ttk.Label(root, text = \"Label 2\")\n",
    "label2.pack()  \n",
    "\n",
    "root.mainloop() "
   ]
  },
  {
   "cell_type": "markdown",
   "metadata": {},
   "source": [
    "## TTK Label Widget"
   ]
  },
  {
   "cell_type": "code",
   "execution_count": 22,
   "metadata": {},
   "outputs": [],
   "source": [
    "import tkinter as tk\n",
    "from tkinter import ttk\n",
    "\n",
    "root = tk.Tk()\n",
    "root.geometry(\"400x400\")\n",
    "\n",
    "label1 = ttk.Label(root, text = \"Hello World!\")\n",
    "label1.pack()\n",
    "\n",
    "root.mainloop() "
   ]
  },
  {
   "cell_type": "markdown",
   "metadata": {},
   "source": [
    "**or:**\n",
    "- using the `.configure()` method"
   ]
  },
  {
   "cell_type": "code",
   "execution_count": 4,
   "metadata": {},
   "outputs": [],
   "source": [
    "import tkinter as tk\n",
    "from tkinter import ttk\n",
    "\n",
    "root = tk.Tk()\n",
    "root.geometry(\"400x400\")\n",
    "\n",
    "label1 = ttk.Label(root)\n",
    "label1.pack()\n",
    "\n",
    "label1.configure(text = \"Hello World!\")\n",
    "\n",
    "root.mainloop() "
   ]
  },
  {
   "cell_type": "markdown",
   "metadata": {},
   "source": [
    "### Image-Integration\n",
    "- installing `pillow` package is necessary"
   ]
  },
  {
   "cell_type": "code",
   "execution_count": 3,
   "metadata": {},
   "outputs": [],
   "source": [
    "import tkinter as tk\n",
    "from tkinter import ttk\n",
    "from PIL import Image, ImageTk\n",
    "\n",
    "root = tk.Tk()\n",
    "root.geometry(\"400x400\")\n",
    "\n",
    "image = Image.open(\"Python.svg.png\")\n",
    "photo = ImageTk.PhotoImage(image)\n",
    "\n",
    "label1 = ttk.Label(root, image = photo)\n",
    "label1.pack()\n",
    "\n",
    "root.mainloop() "
   ]
  },
  {
   "cell_type": "markdown",
   "metadata": {},
   "source": [
    "**Setting Image-Size:**"
   ]
  },
  {
   "cell_type": "code",
   "execution_count": 3,
   "metadata": {},
   "outputs": [],
   "source": [
    "import tkinter as tk\n",
    "from tkinter import ttk\n",
    "from PIL import Image, ImageTk\n",
    "\n",
    "root = tk.Tk()\n",
    "root.geometry(\"400x400\")\n",
    "\n",
    "image = Image.open(\"Python.svg.png\").resize((300, 300))\n",
    "photo = ImageTk.PhotoImage(image)\n",
    "\n",
    "image2 = Image.open(\"2021-python-logo.png\").resize((300, 200))\n",
    "photo2 = ImageTk.PhotoImage(image2)\n",
    "\n",
    "label1 = ttk.Label(root, image = photo)\n",
    "label1.pack()\n",
    "\n",
    "label1[\"image\"] = photo2                #changes the label (also possible for example label1[\"text\"] = \"HelloWorld!\")\n",
    "\n",
    "root.mainloop() "
   ]
  },
  {
   "cell_type": "markdown",
   "metadata": {},
   "source": [
    "**Setting image and text:**"
   ]
  },
  {
   "cell_type": "code",
   "execution_count": 3,
   "metadata": {},
   "outputs": [],
   "source": [
    "import tkinter as tk\n",
    "from tkinter import ttk\n",
    "from PIL import Image, ImageTk\n",
    "\n",
    "root = tk.Tk()\n",
    "root.geometry(\"400x400\")\n",
    "\n",
    "image = Image.open(\"Python.svg.png\").resize((300, 300))\n",
    "photo = ImageTk.PhotoImage(image)\n",
    "\n",
    "label1 = ttk.Label(root, text = \"Python Logo:\", image = photo, compound = \"bottom\")     #left, right, top, bottom, center\n",
    "label1.pack()\n",
    "\n",
    "root.mainloop() "
   ]
  },
  {
   "cell_type": "code",
   "execution_count": 5,
   "metadata": {},
   "outputs": [
    {
     "name": "stdout",
     "output_type": "stream",
     "text": [
      "['background', 'foreground', 'font', 'borderwidth', 'relief', 'anchor', 'justify', 'wraplength', 'takefocus', 'text', 'textvariable', 'underline', 'width', 'image', 'compound', 'padding', 'state', 'cursor', 'style', 'class']\n"
     ]
    }
   ],
   "source": [
    "import tkinter as tk\n",
    "from tkinter import ttk\n",
    "from PIL import Image, ImageTk\n",
    "\n",
    "root = tk.Tk()\n",
    "root.geometry(\"400x400\")\n",
    "\n",
    "image = Image.open(\"Python.svg.png\").resize((300, 300))\n",
    "photo = ImageTk.PhotoImage(image)\n",
    "\n",
    "label1 = ttk.Label(root, text = \"Python Logo:\", image = photo, compound = \"bottom\")     #left, right, top, bottom, center\n",
    "label1.pack()\n",
    "\n",
    "print(label1.keys())                #return possible keys\n",
    "\n",
    "root.mainloop() "
   ]
  },
  {
   "cell_type": "code",
   "execution_count": 6,
   "metadata": {},
   "outputs": [
    {
     "name": "stdout",
     "output_type": "stream",
     "text": [
      "background :  \n",
      "foreground :  \n",
      "font :  \n",
      "borderwidth :  \n",
      "relief :  \n",
      "anchor :  \n",
      "justify :  \n",
      "wraplength :  \n",
      "takefocus :  \n",
      "text :  Python Logo:\n",
      "textvariable :  \n",
      "underline :  -1\n",
      "width :  \n",
      "image :  ('pyimage5',)\n",
      "compound :  bottom\n",
      "padding :  \n",
      "state :  normal\n",
      "cursor :  \n",
      "style :  \n",
      "class :  \n"
     ]
    }
   ],
   "source": [
    "import tkinter as tk\n",
    "from tkinter import ttk\n",
    "from PIL import Image, ImageTk\n",
    "\n",
    "root = tk.Tk()\n",
    "root.geometry(\"400x400\")\n",
    "\n",
    "image = Image.open(\"Python.svg.png\").resize((300, 300))\n",
    "photo = ImageTk.PhotoImage(image)\n",
    "\n",
    "label1 = ttk.Label(root, text = \"Python Logo:\", image = photo, compound = \"bottom\")     #left, right, top, bottom, center\n",
    "label1.pack()\n",
    "\n",
    "for item in label1.keys():\n",
    "    print(item, \": \", label1[item])         #possible keys + their current values\n",
    "\n",
    "root.mainloop() "
   ]
  },
  {
   "cell_type": "markdown",
   "metadata": {},
   "source": [
    "**Changing the Theme:**"
   ]
  },
  {
   "cell_type": "code",
   "execution_count": 8,
   "metadata": {},
   "outputs": [],
   "source": [
    "import tkinter as tk\n",
    "from tkinter import ttk\n",
    "from PIL import Image, ImageTk\n",
    "\n",
    "root = tk.Tk()\n",
    "root.geometry(\"400x400\")\n",
    "\n",
    "style = ttk.Style()\n",
    "style.theme_use(\"clam\")\n",
    "\n",
    "image = Image.open(\"Python.svg.png\").resize((300, 300))\n",
    "photo = ImageTk.PhotoImage(image)\n",
    "\n",
    "label1 = ttk.Label(root, text = \"Python Logo:\", image = photo, compound = \"bottom\")     #left, right, top, bottom, center\n",
    "label1.pack()\n",
    "\n",
    "root.mainloop() "
   ]
  },
  {
   "cell_type": "markdown",
   "metadata": {},
   "source": [
    "## Tkinter Variables"
   ]
  },
  {
   "cell_type": "code",
   "execution_count": 9,
   "metadata": {},
   "outputs": [],
   "source": [
    "import tkinter as tk\n",
    "from tkinter import ttk\n",
    "from PIL import Image, ImageTk\n",
    "\n",
    "root = tk.Tk()\n",
    "root.geometry(\"400x400\")\n",
    "\n",
    "label1 = ttk.Label(root, text = \"This is a string\")\n",
    "label1.pack()\n",
    "\n",
    "root.mainloop() "
   ]
  },
  {
   "cell_type": "markdown",
   "metadata": {},
   "source": [
    "**Two ways of changing the text:**"
   ]
  },
  {
   "cell_type": "code",
   "execution_count": 10,
   "metadata": {},
   "outputs": [],
   "source": [
    "import tkinter as tk\n",
    "from tkinter import ttk\n",
    "from PIL import Image, ImageTk\n",
    "\n",
    "root = tk.Tk()\n",
    "root.geometry(\"400x400\")\n",
    "\n",
    "label1 = ttk.Label(root, text = \"This is a string\")\n",
    "label1.pack()\n",
    "\n",
    "label1.configure(text = \"New String\")\n",
    "\n",
    "root.mainloop() "
   ]
  },
  {
   "cell_type": "code",
   "execution_count": 11,
   "metadata": {},
   "outputs": [],
   "source": [
    "import tkinter as tk\n",
    "from tkinter import ttk\n",
    "from PIL import Image, ImageTk\n",
    "\n",
    "root = tk.Tk()\n",
    "root.geometry(\"400x400\")\n",
    "\n",
    "label1 = ttk.Label(root, text = \"This is a string\")\n",
    "label1.pack()\n",
    "\n",
    "label1[\"text\"] = \"New String\"\n",
    "\n",
    "root.mainloop() "
   ]
  },
  {
   "cell_type": "markdown",
   "metadata": {},
   "source": [
    "**BUT:**\n",
    "- you can bound the content of the label to a variable"
   ]
  },
  {
   "cell_type": "code",
   "execution_count": 12,
   "metadata": {},
   "outputs": [],
   "source": [
    "import tkinter as tk\n",
    "from tkinter import ttk\n",
    "from PIL import Image, ImageTk\n",
    "\n",
    "root = tk.Tk()\n",
    "root.geometry(\"400x400\")\n",
    "\n",
    "text_variable = \"Text of the variable\"\n",
    "\n",
    "label1 = ttk.Label(root, text = text_variable)\n",
    "label1.pack()\n",
    "\n",
    "root.mainloop() "
   ]
  },
  {
   "cell_type": "code",
   "execution_count": 13,
   "metadata": {},
   "outputs": [],
   "source": [
    "import tkinter as tk\n",
    "from tkinter import ttk\n",
    "from PIL import Image, ImageTk\n",
    "\n",
    "root = tk.Tk()\n",
    "root.geometry(\"400x400\")\n",
    "\n",
    "text_variable = \"Text of the variable\"\n",
    "\n",
    "label1 = ttk.Label(root, text = text_variable)\n",
    "label1.pack()\n",
    "\n",
    "text_variable = \"New Text\"                      #the content of the text does not get updated\n",
    "\n",
    "root.mainloop() "
   ]
  },
  {
   "cell_type": "code",
   "execution_count": null,
   "metadata": {},
   "outputs": [],
   "source": [
    "import tkinter as tk\n",
    "from tkinter import ttk\n",
    "from PIL import Image, ImageTk\n",
    "\n",
    "root = tk.Tk()\n",
    "root.geometry(\"400x400\")\n",
    "\n",
    "text_variable = \"Text of the variable\"\n",
    "\n",
    "label1 = ttk.Label(root, textvariable = text_variable)          #does not work!\n",
    "label1.pack()\n",
    "\n",
    "text_variable = \"New Text\"\n",
    "\n",
    "root.mainloop() "
   ]
  },
  {
   "cell_type": "markdown",
   "metadata": {},
   "source": [
    "It needs a special Tkinter-Variable to work properly"
   ]
  },
  {
   "cell_type": "code",
   "execution_count": 1,
   "metadata": {},
   "outputs": [],
   "source": [
    "import tkinter as tk\n",
    "from tkinter import ttk\n",
    "from PIL import Image, ImageTk\n",
    "\n",
    "root = tk.Tk()\n",
    "root.geometry(\"400x400\")\n",
    "\n",
    "text_variable = tk.StringVar()\n",
    "text_variable.set(\"Text of the variable\")\n",
    "\n",
    "label1 = ttk.Label(root, textvariable = text_variable)          \n",
    "label1.pack()\n",
    "\n",
    "root.mainloop()"
   ]
  },
  {
   "cell_type": "markdown",
   "metadata": {},
   "source": [
    "If the `.set()` method of the `text_vriable` is called again, a new text can be assigned."
   ]
  },
  {
   "cell_type": "code",
   "execution_count": 2,
   "metadata": {},
   "outputs": [],
   "source": [
    "import tkinter as tk\n",
    "from tkinter import ttk\n",
    "from PIL import Image, ImageTk\n",
    "\n",
    "root = tk.Tk()\n",
    "root.geometry(\"400x400\")\n",
    "\n",
    "text_variable = tk.StringVar()\n",
    "text_variable.set(\"Text of the variable\")\n",
    "\n",
    "label1 = ttk.Label(root, textvariable = text_variable)          \n",
    "label1.pack()\n",
    "\n",
    "text_variable.set(\"New text of the variable\")\n",
    "\n",
    "root.mainloop()"
   ]
  },
  {
   "cell_type": "markdown",
   "metadata": {},
   "source": [
    "**Other Tkinter variables:**\n",
    "- doublevariable\n",
    "- integervariable\n",
    "- booleanvariable "
   ]
  },
  {
   "cell_type": "code",
   "execution_count": 3,
   "metadata": {},
   "outputs": [],
   "source": [
    "import tkinter as tk\n",
    "from tkinter import ttk\n",
    "from PIL import Image, ImageTk\n",
    "\n",
    "root = tk.Tk()\n",
    "root.geometry(\"400x400\")\n",
    "\n",
    "text_variable = tk.IntVar()\n",
    "text_variable.set(2345)\n",
    "\n",
    "label1 = ttk.Label(root, textvariable = text_variable)          \n",
    "label1.pack()\n",
    "\n",
    "text_variable.set(6789)\n",
    "\n",
    "root.mainloop()"
   ]
  },
  {
   "cell_type": "code",
   "execution_count": 5,
   "metadata": {},
   "outputs": [],
   "source": [
    "import tkinter as tk\n",
    "from tkinter import ttk\n",
    "from PIL import Image, ImageTk\n",
    "\n",
    "root = tk.Tk()\n",
    "root.geometry(\"400x400\")\n",
    "\n",
    "text_variable = tk.BooleanVar()\n",
    "text_variable.set(True)                                     #is displayed as 1\n",
    "\n",
    "label1 = ttk.Label(root, textvariable = text_variable)          \n",
    "label1.pack()\n",
    "\n",
    "text_variable.set(False)                                    #is displayed as 0\n",
    "\n",
    "root.mainloop()"
   ]
  },
  {
   "cell_type": "markdown",
   "metadata": {},
   "source": [
    "## TTK Button Widget"
   ]
  },
  {
   "cell_type": "code",
   "execution_count": 9,
   "metadata": {},
   "outputs": [],
   "source": [
    "import tkinter as tk\n",
    "from tkinter import ttk\n",
    "\n",
    "root = tk.Tk()\n",
    "root.geometry(\"400x400\")\n",
    "\n",
    "button1 = ttk.Button(root, text = \"Click me!\")\n",
    "button1.pack(side = \"left\")\n",
    "\n",
    "\n",
    "root.mainloop()"
   ]
  },
  {
   "cell_type": "code",
   "execution_count": 13,
   "metadata": {},
   "outputs": [],
   "source": [
    "import tkinter as tk\n",
    "from tkinter import ttk\n",
    "\n",
    "root = tk.Tk()\n",
    "root.geometry(\"400x400\")\n",
    "\n",
    "button1 = ttk.Button(root, text = \"Click me!\")\n",
    "button1.pack(fill = \"x\")\n",
    "\n",
    "\n",
    "root.mainloop()"
   ]
  },
  {
   "cell_type": "markdown",
   "metadata": {},
   "source": [
    "### Possible Options for Button Widget"
   ]
  },
  {
   "cell_type": "code",
   "execution_count": 17,
   "metadata": {},
   "outputs": [
    {
     "name": "stdout",
     "output_type": "stream",
     "text": [
      "command :  \n",
      "default :  normal\n",
      "takefocus :  ttk::takefocus\n",
      "text :  Click me!\n",
      "textvariable :  \n",
      "underline :  -1\n",
      "width :  \n",
      "image :  \n",
      "compound :  \n",
      "padding :  (<pixel object: '10'>,)\n",
      "state :  normal\n",
      "cursor :  \n",
      "style :  \n",
      "class :  \n"
     ]
    }
   ],
   "source": [
    "import tkinter as tk\n",
    "from tkinter import ttk\n",
    "\n",
    "root = tk.Tk()\n",
    "root.geometry(\"400x400\")\n",
    "\n",
    "button1 = ttk.Button(root, text = \"Click me!\", padding = 10)\n",
    "button1.pack()\n",
    "\n",
    "for item in button1.keys():\n",
    "    print(item, \": \", button1[item])\n",
    "\n",
    "\n",
    "root.mainloop()"
   ]
  },
  {
   "cell_type": "markdown",
   "metadata": {},
   "source": [
    "`command`: you can implement a function and assign the name of the function to the `command` option <br>\n",
    "-> when you press the butten, the assigned function is called"
   ]
  },
  {
   "cell_type": "code",
   "execution_count": 18,
   "metadata": {},
   "outputs": [
    {
     "name": "stdout",
     "output_type": "stream",
     "text": [
      "command :  4949351808say_hello\n",
      "default :  normal\n",
      "takefocus :  ttk::takefocus\n",
      "text :  Click me!\n",
      "textvariable :  \n",
      "underline :  -1\n",
      "width :  \n",
      "image :  \n",
      "compound :  \n",
      "padding :  (<pixel object: '10'>,)\n",
      "state :  normal\n",
      "cursor :  \n",
      "style :  \n",
      "class :  \n",
      "Hello, thanks for clicking on me!\n"
     ]
    }
   ],
   "source": [
    "import tkinter as tk\n",
    "from tkinter import ttk\n",
    "\n",
    "def say_hello():\n",
    "    print(\"Hello, thanks for clicking on me!\")\n",
    "\n",
    "root = tk.Tk()\n",
    "root.geometry(\"400x400\")\n",
    "\n",
    "button1 = ttk.Button(root, text = \"Click me!\", padding = 10, command = say_hello)\n",
    "button1.pack()\n",
    "\n",
    "for item in button1.keys():\n",
    "    print(item, \": \", button1[item])\n",
    "\n",
    "\n",
    "root.mainloop()"
   ]
  },
  {
   "cell_type": "markdown",
   "metadata": {},
   "source": [
    "You can also implement a button, that closes the window, when pressed."
   ]
  },
  {
   "cell_type": "code",
   "execution_count": 1,
   "metadata": {},
   "outputs": [
    {
     "name": "stdout",
     "output_type": "stream",
     "text": [
      "command :  4426187200say_hello\n",
      "default :  normal\n",
      "takefocus :  ttk::takefocus\n",
      "text :  Click me!\n",
      "textvariable :  \n",
      "underline :  -1\n",
      "width :  \n",
      "image :  \n",
      "compound :  \n",
      "padding :  (<pixel object: '10'>,)\n",
      "state :  normal\n",
      "cursor :  \n",
      "style :  \n",
      "class :  \n"
     ]
    }
   ],
   "source": [
    "import tkinter as tk\n",
    "from tkinter import ttk\n",
    "\n",
    "def say_hello():\n",
    "    print(\"Hello, thanks for clicking on me!\")\n",
    "\n",
    "root = tk.Tk()\n",
    "root.geometry(\"400x400\")\n",
    "\n",
    "button1 = ttk.Button(root, text = \"Click me!\", padding = 10, command = say_hello)\n",
    "button1.pack()\n",
    "\n",
    "quit_button = ttk.Button(root, text = \"Stop The Program\", command = root.destroy)         #root.destroy() closes the window\n",
    "quit_button.pack()\n",
    "\n",
    "for item in button1.keys():\n",
    "    print(item, \": \", button1[item])\n",
    "\n",
    "\n",
    "root.mainloop()"
   ]
  },
  {
   "cell_type": "markdown",
   "metadata": {},
   "source": [
    "`state`: normal/disabled | normal -> button can be clicked | disabled -> button can't be clicked\n",
    "- can be usefull if you want to have a button, that can't be pressed for a given amount of time (for example a coffee-machine, that needs to heat up, before the start button can be pressed)"
   ]
  },
  {
   "cell_type": "code",
   "execution_count": 1,
   "metadata": {},
   "outputs": [
    {
     "name": "stdout",
     "output_type": "stream",
     "text": [
      "command :  4413147776say_hello\n",
      "default :  normal\n",
      "takefocus :  ttk::takefocus\n",
      "text :  Click me!\n",
      "textvariable :  \n",
      "underline :  -1\n",
      "width :  \n",
      "image :  \n",
      "compound :  \n",
      "padding :  (<pixel object: '10'>,)\n",
      "state :  disabled\n",
      "cursor :  \n",
      "style :  \n",
      "class :  \n"
     ]
    }
   ],
   "source": [
    "import tkinter as tk\n",
    "from tkinter import ttk\n",
    "\n",
    "def say_hello():\n",
    "    print(\"Hello, thanks for clicking on me!\")\n",
    "\n",
    "root = tk.Tk()\n",
    "root.geometry(\"400x400\")\n",
    "\n",
    "button1 = ttk.Button(root, text = \"Click me!\", padding = 10, command = say_hello, state = tk.DISABLED)\n",
    "button1.pack()\n",
    "\n",
    "quit_button = ttk.Button(root, text = \"Stop The Program\", command = root.destroy)         #root.destroy() closes the window\n",
    "quit_button.pack()\n",
    "\n",
    "for item in button1.keys():\n",
    "    print(item, \": \", button1[item])\n",
    "\n",
    "\n",
    "root.mainloop()"
   ]
  },
  {
   "cell_type": "markdown",
   "metadata": {},
   "source": [
    "## TTK Entry Widget"
   ]
  },
  {
   "cell_type": "code",
   "execution_count": 1,
   "metadata": {},
   "outputs": [
    {
     "name": "stdout",
     "output_type": "stream",
     "text": [
      "exportselection :  1\n",
      "font :  TkTextFont\n",
      "invalidcommand :  \n",
      "justify :  left\n",
      "show :  \n",
      "state :  normal\n",
      "textvariable :  \n",
      "validate :  none\n",
      "validatecommand :  \n",
      "width :  20\n",
      "xscrollcommand :  \n",
      "foreground :  \n",
      "background :  \n",
      "takefocus :  ttk::takefocus\n",
      "cursor :  ibeam\n",
      "style :  \n",
      "class :  \n"
     ]
    }
   ],
   "source": [
    "import tkinter as tk\n",
    "from tkinter import ttk\n",
    "\n",
    "root = tk.Tk()\n",
    "root.geometry(\"400x400\")\n",
    "\n",
    "entry1 = ttk.Entry(root)\n",
    "entry1.pack()\n",
    "\n",
    "for item in entry1.keys():\n",
    "    print(item, \": \", entry1[item])\n",
    "\n",
    "\n",
    "root.mainloop()"
   ]
  },
  {
   "cell_type": "code",
   "execution_count": 2,
   "metadata": {},
   "outputs": [
    {
     "name": "stdout",
     "output_type": "stream",
     "text": [
      "exportselection :  1\n",
      "font :  TkTextFont\n",
      "invalidcommand :  \n",
      "justify :  left\n",
      "show :  \n",
      "state :  normal\n",
      "textvariable :  \n",
      "validate :  none\n",
      "validatecommand :  \n",
      "width :  40\n",
      "xscrollcommand :  \n",
      "foreground :  \n",
      "background :  \n",
      "takefocus :  ttk::takefocus\n",
      "cursor :  ibeam\n",
      "style :  \n",
      "class :  \n"
     ]
    }
   ],
   "source": [
    "import tkinter as tk\n",
    "from tkinter import ttk\n",
    "\n",
    "root = tk.Tk()\n",
    "root.geometry(\"400x400\")\n",
    "\n",
    "entry1 = ttk.Entry(root, width = 40)                #witdh of the widget\n",
    "entry1.pack()\n",
    "\n",
    "for item in entry1.keys():\n",
    "    print(item, \": \", entry1[item])\n",
    "\n",
    "\n",
    "root.mainloop()"
   ]
  },
  {
   "cell_type": "markdown",
   "metadata": {},
   "source": [
    "**But** you can enter as many characters as you want! <br> <br>\n",
    "`justify` -> on which side of the widget will the text start"
   ]
  },
  {
   "cell_type": "code",
   "execution_count": 4,
   "metadata": {},
   "outputs": [
    {
     "name": "stdout",
     "output_type": "stream",
     "text": [
      "exportselection :  1\n",
      "font :  TkTextFont\n",
      "invalidcommand :  \n",
      "justify :  right\n",
      "show :  \n",
      "state :  normal\n",
      "textvariable :  \n",
      "validate :  none\n",
      "validatecommand :  \n",
      "width :  40\n",
      "xscrollcommand :  \n",
      "foreground :  \n",
      "background :  \n",
      "takefocus :  ttk::takefocus\n",
      "cursor :  ibeam\n",
      "style :  \n",
      "class :  \n"
     ]
    }
   ],
   "source": [
    "import tkinter as tk\n",
    "from tkinter import ttk\n",
    "\n",
    "root = tk.Tk()\n",
    "root.geometry(\"400x400\")\n",
    "\n",
    "entry1 = ttk.Entry(root, width = 40, justify = \"right\")     #right, left, center possible\n",
    "entry1.pack()\n",
    "\n",
    "for item in entry1.keys():\n",
    "    print(item, \": \", entry1[item])\n",
    "\n",
    "\n",
    "root.mainloop()"
   ]
  },
  {
   "cell_type": "markdown",
   "metadata": {},
   "source": [
    "### Working with the entered text:"
   ]
  },
  {
   "cell_type": "code",
   "execution_count": 7,
   "metadata": {},
   "outputs": [
    {
     "name": "stdout",
     "output_type": "stream",
     "text": [
      "exportselection :  1\n",
      "font :  TkTextFont\n",
      "invalidcommand :  \n",
      "justify :  center\n",
      "show :  \n",
      "state :  normal\n",
      "textvariable :  \n",
      "validate :  none\n",
      "validatecommand :  \n",
      "width :  40\n",
      "xscrollcommand :  \n",
      "foreground :  \n",
      "background :  \n",
      "takefocus :  ttk::takefocus\n",
      "cursor :  ibeam\n",
      "style :  \n",
      "class :  \n",
      "HelloWorld\n",
      "HelloWorld\n",
      "HelloWorld\n",
      "HelloWorld\n",
      "HelloWorld\n",
      "HelloWorld\n",
      "HelloWorld\n",
      "HelloWorld\n",
      "HelloWorld\n"
     ]
    }
   ],
   "source": [
    "import tkinter as tk\n",
    "from tkinter import ttk\n",
    "\n",
    "def print_entry_input():\n",
    "    print(entry1.get())\n",
    "\n",
    "root = tk.Tk()\n",
    "root.geometry(\"400x400\")\n",
    "\n",
    "entry1 = ttk.Entry(root, width = 40, justify = \"center\")\n",
    "entry1.pack()\n",
    "\n",
    "button1 = ttk.Button(root, text = \"Print entry!\", command = print_entry_input)\n",
    "button1.pack()\n",
    "\n",
    "for item in entry1.keys():\n",
    "    print(item, \": \", entry1[item])\n",
    "\n",
    "\n",
    "root.mainloop()"
   ]
  },
  {
   "cell_type": "code",
   "execution_count": 8,
   "metadata": {},
   "outputs": [],
   "source": [
    "import tkinter as tk\n",
    "from tkinter import ttk\n",
    "\n",
    "def print_entry_input():\n",
    "    ttk.Label(root, text = entry1.get()).pack()\n",
    "\n",
    "root = tk.Tk()\n",
    "root.geometry(\"400x400\")\n",
    "\n",
    "entry1 = ttk.Entry(root, width = 40, justify = \"center\")\n",
    "entry1.pack()\n",
    "\n",
    "button1 = ttk.Button(root, text = \"Print entry!\", command = print_entry_input)\n",
    "button1.pack()\n",
    "\n",
    "root.mainloop()"
   ]
  },
  {
   "cell_type": "markdown",
   "metadata": {},
   "source": [
    "### Method `insert()`\n",
    "-> writes something via code into the entry widget"
   ]
  },
  {
   "cell_type": "code",
   "execution_count": 10,
   "metadata": {},
   "outputs": [],
   "source": [
    "import tkinter as tk\n",
    "from tkinter import ttk\n",
    "\n",
    "def print_entry_input():\n",
    "    ttk.Label(root, text = entry1.get()).pack()\n",
    "\n",
    "root = tk.Tk()\n",
    "root.geometry(\"400x400\")\n",
    "\n",
    "entry1 = ttk.Entry(root, width = 40, justify = \"center\")\n",
    "entry1.pack()\n",
    "\n",
    "entry1.insert(0, \"You can write here!\")                             #index, string\n",
    "\n",
    "button1 = ttk.Button(root, text = \"Print entry!\", command = print_entry_input)\n",
    "button1.pack()\n",
    "\n",
    "root.mainloop()"
   ]
  },
  {
   "cell_type": "markdown",
   "metadata": {},
   "source": [
    "### Method `delete()`"
   ]
  },
  {
   "cell_type": "code",
   "execution_count": 14,
   "metadata": {},
   "outputs": [],
   "source": [
    "import tkinter as tk\n",
    "from tkinter import ttk\n",
    "\n",
    "def delete_input():\n",
    "    entry1.delete(0, tk.END)              #index (from what index the text of the entry widget will be deleted), index (to what index)\n",
    "\n",
    "root = tk.Tk()\n",
    "root.geometry(\"400x400\")\n",
    "\n",
    "entry1 = ttk.Entry(root, width = 40)\n",
    "entry1.pack()\n",
    "\n",
    "button1 = ttk.Button(root, text = \"Delete Input!\", command = delete_input)\n",
    "button1.pack()\n",
    "\n",
    "root.mainloop()"
   ]
  },
  {
   "cell_type": "markdown",
   "metadata": {},
   "source": [
    "## Listbox\n",
    "= A listing of selectable text items within it's own container"
   ]
  },
  {
   "cell_type": "code",
   "execution_count": 5,
   "metadata": {},
   "outputs": [],
   "source": [
    "import tkinter as tk\n",
    "from tkinter import *\n",
    "\n",
    "main_window = tk.Tk()\n",
    "\n",
    "listbox = Listbox(main_window)\n",
    "listbox.pack()\n",
    "\n",
    "main_window.mainloop()"
   ]
  },
  {
   "cell_type": "code",
   "execution_count": null,
   "metadata": {},
   "outputs": [],
   "source": []
  }
 ],
 "metadata": {
  "interpreter": {
   "hash": "aee8b7b246df8f9039afb4144a1f6fd8d2ca17a180786b69acc140d282b71a49"
  },
  "kernelspec": {
   "display_name": "Python 3.11.0 64-bit",
   "name": "python3"
  },
  "language_info": {
   "codemirror_mode": {
    "name": "ipython",
    "version": 3
   },
   "file_extension": ".py",
   "mimetype": "text/x-python",
   "name": "python",
   "nbconvert_exporter": "python",
   "pygments_lexer": "ipython3",
   "version": "3.11.0"
  },
  "orig_nbformat": 4
 },
 "nbformat": 4,
 "nbformat_minor": 2
}
