{
 "cells": [
  {
   "cell_type": "markdown",
   "metadata": {},
   "source": [
    "# Tkinter Tutorial\n",
    "Getting started with GUI-Applications in Python. <br>\n",
    "This Jupyter Notebook will contain the basics of **Tkinter**, that are needed to realize the given developement task later in this project."
   ]
  },
  {
   "cell_type": "markdown",
   "metadata": {},
   "source": [
    "## What is Tkinter\n",
    "\n",
    "```\n",
    "....................\n",
    "|      Python      | -> is not allowed to use the services of Tcl/Tk -> Tkinter is needed\n",
    "....................\n",
    "|      Tcl/Tk      | -> **T**ool **C**ommand **L**anguage (script-language with own interpreter) -> **T**ool **K**it (used for the compilation of GUIs)\n",
    "....................\n",
    "| Operating System |\n",
    "....................\n",
    "|    Hardware      |\n",
    "....................\n",
    "\n",
    "....................\n",
    "|      Python      |\n",
    "....................\n",
    "|     Tkinter      | -> allows python to use Tcl/Tk\n",
    "....................\n",
    "|      Tcl/Tk      |\n",
    "....................\n",
    "| Operating System |\n",
    "....................\n",
    "|     Hardware     |\n",
    "....................\n",
    "```\n",
    "\n"
   ]
  },
  {
   "cell_type": "markdown",
   "metadata": {},
   "source": [
    "## How to use Tkinter\n",
    "Tkinter is a built in module and comes with the installed python version. Just do:\n",
    "```\n",
    "tkinter._test()\n",
    "```\n",
    "opens a test window"
   ]
  },
  {
   "cell_type": "code",
   "execution_count": 1,
   "metadata": {},
   "outputs": [],
   "source": [
    "import tkinter\n",
    "\n",
    "tkinter._test()"
   ]
  },
  {
   "cell_type": "code",
   "execution_count": 2,
   "metadata": {},
   "outputs": [],
   "source": [
    "import tkinter\n",
    "\n",
    "root = tkinter.Tk()             #tkinter.Tk() generates Tk-object (which is main window)\n",
    "root.mainloop()                 #start tkinter event-loop"
   ]
  },
  {
   "cell_type": "code",
   "execution_count": 3,
   "metadata": {},
   "outputs": [],
   "source": [
    "import tkinter\n",
    "\n",
    "root = tkinter.Tk()\n",
    "label1 = tkinter.Label(root, text = \"Hallo Welt!\")                 #generates object of class Label (first argument = parent, second = keyword-argument)\n",
    "label1.pack()                                                      #layout-manager called with pack (where label is located)\n",
    "root.mainloop()    "
   ]
  },
  {
   "cell_type": "code",
   "execution_count": 4,
   "metadata": {},
   "outputs": [],
   "source": [
    "import tkinter as tk\n",
    "\n",
    "root = tk.Tk()\n",
    "label1 = tk.Label(root, text = \"Hallo Welt!\") \n",
    "label1.pack()                                                 \n",
    "root.mainloop()    "
   ]
  },
  {
   "cell_type": "markdown",
   "metadata": {},
   "source": [
    "## Event Loop\n",
    "- stops the execution of the python code and starts the tkinter event loop (everything below that code won´t be executed)\n",
    "- checks multiple times per second if an event is executed (event = interaction of the user with the GUI)\n",
    "- in the background there is an implementation on how the GUI should react in a given event (for example \"click-event\")\n",
    "- if the user presses on the red cross, to close the window, the event loop will no longer be executed -> the python code will resume execution"
   ]
  },
  {
   "cell_type": "markdown",
   "metadata": {},
   "source": []
  },
  {
   "cell_type": "code",
   "execution_count": 6,
   "metadata": {},
   "outputs": [
    {
     "name": "stdout",
     "output_type": "stream",
     "text": [
      "Test\n"
     ]
    }
   ],
   "source": [
    "import tkinter as tk\n",
    "\n",
    "root = tk.Tk()\n",
    "label1 = tk.Label(root, text = \"Hallo Welt!\") \n",
    "label1.pack()                                                 \n",
    "root.mainloop()\n",
    "\n",
    "print(\"Test\")           #after closing the window, this will be executed"
   ]
  },
  {
   "cell_type": "markdown",
   "metadata": {},
   "source": [
    "## Modifying the Main-Window\n",
    "\n",
    "### **Title**\n",
    "- `.title()`\n",
    "- standart title is `tk`"
   ]
  },
  {
   "cell_type": "code",
   "execution_count": 8,
   "metadata": {},
   "outputs": [],
   "source": [
    "import tkinter as tk\n",
    "\n",
    "root = tk.Tk()\n",
    "root.title(\"New title\")                     #setting a new title\n",
    "\n",
    "label1 = tk.Label(root, text = \"Hallo Welt!\") \n",
    "label1.pack()\n",
    "\n",
    "root.mainloop()  "
   ]
  },
  {
   "cell_type": "markdown",
   "metadata": {},
   "source": [
    "### **Size**\n",
    "- `.title()`"
   ]
  },
  {
   "cell_type": "code",
   "execution_count": 9,
   "metadata": {},
   "outputs": [],
   "source": [
    "import tkinter as tk\n",
    "\n",
    "root = tk.Tk()\n",
    "root.title(\"New title\")\n",
    "root.geometry(\"800x400\")                   #string argument: \"with in pixel\"\"x\"\"height in pixel\"\n",
    "\n",
    "label1 = tk.Label(root, text = \"Hallo Welt!\") \n",
    "label1.pack()\n",
    "\n",
    "root.mainloop()  "
   ]
  },
  {
   "cell_type": "markdown",
   "metadata": {},
   "source": [
    "#### Minimum\n",
    "- `.minsize()`"
   ]
  },
  {
   "cell_type": "code",
   "execution_count": 11,
   "metadata": {},
   "outputs": [],
   "source": [
    "import tkinter as tk\n",
    "\n",
    "root = tk.Tk()\n",
    "root.title(\"New title\")\n",
    "root.geometry(\"800x400\")\n",
    "root.minsize(width = 250, height = 250)             #minimum size of the window is 250x250 pixel -> can't be smaller\n",
    "\n",
    "label1 = tk.Label(root, text = \"Hallo Welt!\") \n",
    "label1.pack()\n",
    "\n",
    "root.mainloop()  "
   ]
  },
  {
   "cell_type": "markdown",
   "metadata": {},
   "source": [
    "#### Maximum \n",
    "- `.maxsize()`"
   ]
  },
  {
   "cell_type": "code",
   "execution_count": 12,
   "metadata": {},
   "outputs": [],
   "source": [
    "import tkinter as tk\n",
    "\n",
    "root = tk.Tk()\n",
    "root.title(\"New title\")\n",
    "root.geometry(\"800x400\")\n",
    "root.minsize(width = 250, height = 250)\n",
    "root.maxsize(width = 600, height = 600)             #maximum size of the window is 600x600 pixel -> can't be larger\n",
    "\n",
    "label1 = tk.Label(root, text = \"Hallo Welt!\") \n",
    "label1.pack()\n",
    "\n",
    "root.mainloop()  "
   ]
  },
  {
   "cell_type": "markdown",
   "metadata": {},
   "source": [
    "#### Disable size configuration\n",
    "- `.resizeable()`"
   ]
  },
  {
   "cell_type": "code",
   "execution_count": 13,
   "metadata": {},
   "outputs": [],
   "source": [
    "import tkinter as tk\n",
    "\n",
    "root = tk.Tk()\n",
    "root.title(\"New title\")\n",
    "root.geometry(\"800x400\")\n",
    "root.resizable(width = False, height = False)\n",
    "\n",
    "label1 = tk.Label(root, text = \"Hallo Welt!\") \n",
    "label1.pack()\n",
    "\n",
    "root.mainloop()  "
   ]
  },
  {
   "cell_type": "markdown",
   "metadata": {},
   "source": [
    "## Layout Manager\n",
    "- enables the placement of widgets in the GUI"
   ]
  },
  {
   "cell_type": "markdown",
   "metadata": {},
   "source": [
    "### What is the purpose od a layout manager?\n",
    "- sometimes also _\"geometry manager\"_ or _\"layout algorithms\"_\n",
    "- describes the mechanism, that is used to organise, place and position widgets in the Tkinter main window"
   ]
  },
  {
   "cell_type": "markdown",
   "metadata": {},
   "source": [
    "### Basic layout manager in Tkinter\n",
    "- Pack Layout Manager\n",
    "- Grid Layout Manager\n",
    "- Place Layout Manager"
   ]
  },
  {
   "cell_type": "markdown",
   "metadata": {},
   "source": [
    "### `Pack` layout manager in detail"
   ]
  },
  {
   "cell_type": "code",
   "execution_count": 7,
   "metadata": {},
   "outputs": [],
   "source": [
    "import tkinter as tk\n",
    "\n",
    "root = tk.Tk()\n",
    "root.geometry(\"400x400\")\n",
    "\n",
    "\n",
    "label1 = tk.Label(root, text = \"Label 1\", bg = \"green\")                 #bg sets background colour of label1 \n",
    "label1.pack()\n",
    "\n",
    "label2 = tk.Label(root, text = \"Label 2\", bg = \"red\")\n",
    "label2.pack()\n",
    "\n",
    "root.mainloop()  "
   ]
  },
  {
   "cell_type": "markdown",
   "metadata": {},
   "source": [
    "#### Keyword-Arguments\n",
    "- defines, where a widget is placed in the window\n",
    "- it reserves the whole horizontal space next to the label\n",
    "- `side` is the position of the widget in the window\n",
    "- `fill` fills the whole allocated space in the window\n",
    "- `expand` expands the space in y-direction as much as possible if True"
   ]
  },
  {
   "cell_type": "code",
   "execution_count": 16,
   "metadata": {},
   "outputs": [],
   "source": [
    "import tkinter as tk\n",
    "\n",
    "root = tk.Tk()\n",
    "root.geometry(\"400x400\")\n",
    "\n",
    "\n",
    "label1 = tk.Label(root, text = \"Label 1\", bg = \"green\")\n",
    "label1.pack(side = \"top\", fill = \"y\", expand = True)                                        #side = \"top\" is the default value of pack\n",
    "                                                                                            #fill = fills the whole allocated space in the x direction (\"y\" -> y direction, \"both\" -> x and y)\n",
    "\n",
    "label2 = tk.Label(root, text = \"Label 2\", bg = \"red\")\n",
    "label2.pack(side = \"top\")\n",
    "\n",
    "root.mainloop() "
   ]
  },
  {
   "cell_type": "code",
   "execution_count": 15,
   "metadata": {},
   "outputs": [],
   "source": [
    "import tkinter as tk\n",
    "\n",
    "root = tk.Tk()\n",
    "root.geometry(\"400x400\")\n",
    "\n",
    "\n",
    "label1 = tk.Label(root, text = \"Label 1\", bg = \"green\")\n",
    "label1.pack(side = \"top\", fill = \"y\", expand = True)\n",
    "\n",
    "label2 = tk.Label(root, text = \"Label 2\", bg = \"red\")\n",
    "label2.pack(side = \"top\", expand = True, fill = \"y\")\n",
    "\n",
    "root.mainloop() "
   ]
  },
  {
   "cell_type": "code",
   "execution_count": 17,
   "metadata": {},
   "outputs": [],
   "source": [
    "import tkinter as tk\n",
    "\n",
    "root = tk.Tk()\n",
    "root.geometry(\"400x400\")\n",
    "\n",
    "\n",
    "label1 = tk.Label(root, text = \"Label 1\", bg = \"green\")\n",
    "label1.pack(side = \"top\", fill = \"y\", expand = True)\n",
    "\n",
    "label2 = tk.Label(root, text = \"Label 2\", bg = \"red\")\n",
    "label2.pack(side = \"top\", expand = True, fill = \"both\")\n",
    "\n",
    "root.mainloop() "
   ]
  },
  {
   "cell_type": "markdown",
   "metadata": {},
   "source": [
    "## ttk Widget vs. tk Widget"
   ]
  },
  {
   "cell_type": "code",
   "execution_count": null,
   "metadata": {},
   "outputs": [],
   "source": [
    "import tkinter as tk\n",
    "\n",
    "root = tk.Tk()\n",
    "root.geometry(\"400x400\")\n",
    "\n",
    "label1 = tk.Label(root, text = \"Label 1\", bg = \"green\")\n",
    "label1.pack()                                                   #= tk Widget\n",
    "\n",
    "root.mainloop() "
   ]
  },
  {
   "cell_type": "markdown",
   "metadata": {},
   "source": [
    "### ttk Widgets\n",
    "**Idea:** the code that implements the functionality of a widget is being separated from the code, that implements the appearence of a widget <br>\n",
    "-> is not necessary, but can be done <br>\n",
    "-> results in a better clarity <br>\n",
    "-> fast changes possible (for exapmle: all widgets can be changed at once <br>\n",
    "-> 18 Widgets instead of 12(tk) <br>\n",
    "-> better appearence across different platforms (Themes)"
   ]
  },
  {
   "cell_type": "code",
   "execution_count": 20,
   "metadata": {},
   "outputs": [],
   "source": [
    "import tkinter as tk\n",
    "from tkinter import ttk\n",
    "\n",
    "root = tk.Tk()\n",
    "root.geometry(\"400x400\")\n",
    "\n",
    "label1 = tk.Label(root, text = \"Label 1\", bg = \"green\")\n",
    "label1.pack()\n",
    "\n",
    "label2 = ttk.Label(root, text = \"Label 2\")\n",
    "label2.pack()  \n",
    "\n",
    "root.mainloop() "
   ]
  },
  {
   "cell_type": "markdown",
   "metadata": {},
   "source": [
    "## TTK Label Widget"
   ]
  },
  {
   "cell_type": "code",
   "execution_count": 22,
   "metadata": {},
   "outputs": [],
   "source": [
    "import tkinter as tk\n",
    "from tkinter import ttk\n",
    "\n",
    "root = tk.Tk()\n",
    "root.geometry(\"400x400\")\n",
    "\n",
    "label1 = ttk.Label(root, text = \"Hello World!\")\n",
    "label1.pack()\n",
    "\n",
    "root.mainloop() "
   ]
  },
  {
   "cell_type": "markdown",
   "metadata": {},
   "source": [
    "**or:**\n",
    "- using the `.configure()` method"
   ]
  },
  {
   "cell_type": "code",
   "execution_count": 4,
   "metadata": {},
   "outputs": [],
   "source": [
    "import tkinter as tk\n",
    "from tkinter import ttk\n",
    "\n",
    "root = tk.Tk()\n",
    "root.geometry(\"400x400\")\n",
    "\n",
    "label1 = ttk.Label(root)\n",
    "label1.pack()\n",
    "\n",
    "label1.configure(text = \"Hello World!\")\n",
    "\n",
    "root.mainloop() "
   ]
  },
  {
   "cell_type": "markdown",
   "metadata": {},
   "source": [
    "### Image-Integration\n",
    "- installing `pillow` package is necessary"
   ]
  },
  {
   "cell_type": "code",
   "execution_count": 3,
   "metadata": {},
   "outputs": [],
   "source": [
    "import tkinter as tk\n",
    "from tkinter import ttk\n",
    "from PIL import Image, ImageTk\n",
    "\n",
    "root = tk.Tk()\n",
    "root.geometry(\"400x400\")\n",
    "\n",
    "image = Image.open(\"Python.svg.png\")\n",
    "photo = ImageTk.PhotoImage(image)\n",
    "\n",
    "label1 = ttk.Label(root, image = photo)\n",
    "label1.pack()\n",
    "\n",
    "root.mainloop() "
   ]
  },
  {
   "cell_type": "markdown",
   "metadata": {},
   "source": [
    "**Setting Image-Size:**"
   ]
  },
  {
   "cell_type": "code",
   "execution_count": 3,
   "metadata": {},
   "outputs": [],
   "source": [
    "import tkinter as tk\n",
    "from tkinter import ttk\n",
    "from PIL import Image, ImageTk\n",
    "\n",
    "root = tk.Tk()\n",
    "root.geometry(\"400x400\")\n",
    "\n",
    "image = Image.open(\"Python.svg.png\").resize((300, 300))\n",
    "photo = ImageTk.PhotoImage(image)\n",
    "\n",
    "image2 = Image.open(\"2021-python-logo.png\").resize((300, 200))\n",
    "photo2 = ImageTk.PhotoImage(image2)\n",
    "\n",
    "label1 = ttk.Label(root, image = photo)\n",
    "label1.pack()\n",
    "\n",
    "label1[\"image\"] = photo2                #changes the label (also possible for example label1[\"text\"] = \"HelloWorld!\")\n",
    "\n",
    "root.mainloop() "
   ]
  },
  {
   "cell_type": "markdown",
   "metadata": {},
   "source": [
    "**Setting image and text:**"
   ]
  },
  {
   "cell_type": "code",
   "execution_count": 3,
   "metadata": {},
   "outputs": [],
   "source": [
    "import tkinter as tk\n",
    "from tkinter import ttk\n",
    "from PIL import Image, ImageTk\n",
    "\n",
    "root = tk.Tk()\n",
    "root.geometry(\"400x400\")\n",
    "\n",
    "image = Image.open(\"Python.svg.png\").resize((300, 300))\n",
    "photo = ImageTk.PhotoImage(image)\n",
    "\n",
    "label1 = ttk.Label(root, text = \"Python Logo:\", image = photo, compound = \"bottom\")     #left, right, top, bottom, center\n",
    "label1.pack()\n",
    "\n",
    "root.mainloop() "
   ]
  },
  {
   "cell_type": "code",
   "execution_count": 5,
   "metadata": {},
   "outputs": [
    {
     "name": "stdout",
     "output_type": "stream",
     "text": [
      "['background', 'foreground', 'font', 'borderwidth', 'relief', 'anchor', 'justify', 'wraplength', 'takefocus', 'text', 'textvariable', 'underline', 'width', 'image', 'compound', 'padding', 'state', 'cursor', 'style', 'class']\n"
     ]
    }
   ],
   "source": [
    "import tkinter as tk\n",
    "from tkinter import ttk\n",
    "from PIL import Image, ImageTk\n",
    "\n",
    "root = tk.Tk()\n",
    "root.geometry(\"400x400\")\n",
    "\n",
    "image = Image.open(\"Python.svg.png\").resize((300, 300))\n",
    "photo = ImageTk.PhotoImage(image)\n",
    "\n",
    "label1 = ttk.Label(root, text = \"Python Logo:\", image = photo, compound = \"bottom\")     #left, right, top, bottom, center\n",
    "label1.pack()\n",
    "\n",
    "print(label1.keys())                #return possible keys\n",
    "\n",
    "root.mainloop() "
   ]
  },
  {
   "cell_type": "code",
   "execution_count": 6,
   "metadata": {},
   "outputs": [
    {
     "name": "stdout",
     "output_type": "stream",
     "text": [
      "background :  \n",
      "foreground :  \n",
      "font :  \n",
      "borderwidth :  \n",
      "relief :  \n",
      "anchor :  \n",
      "justify :  \n",
      "wraplength :  \n",
      "takefocus :  \n",
      "text :  Python Logo:\n",
      "textvariable :  \n",
      "underline :  -1\n",
      "width :  \n",
      "image :  ('pyimage5',)\n",
      "compound :  bottom\n",
      "padding :  \n",
      "state :  normal\n",
      "cursor :  \n",
      "style :  \n",
      "class :  \n"
     ]
    }
   ],
   "source": [
    "import tkinter as tk\n",
    "from tkinter import ttk\n",
    "from PIL import Image, ImageTk\n",
    "\n",
    "root = tk.Tk()\n",
    "root.geometry(\"400x400\")\n",
    "\n",
    "image = Image.open(\"Python.svg.png\").resize((300, 300))\n",
    "photo = ImageTk.PhotoImage(image)\n",
    "\n",
    "label1 = ttk.Label(root, text = \"Python Logo:\", image = photo, compound = \"bottom\")     #left, right, top, bottom, center\n",
    "label1.pack()\n",
    "\n",
    "for item in label1.keys():\n",
    "    print(item, \": \", label1[item])         #possible keys + their current values\n",
    "\n",
    "root.mainloop() "
   ]
  },
  {
   "cell_type": "markdown",
   "metadata": {},
   "source": [
    "**Changing the Theme:**"
   ]
  },
  {
   "cell_type": "code",
   "execution_count": 8,
   "metadata": {},
   "outputs": [],
   "source": [
    "import tkinter as tk\n",
    "from tkinter import ttk\n",
    "from PIL import Image, ImageTk\n",
    "\n",
    "root = tk.Tk()\n",
    "root.geometry(\"400x400\")\n",
    "\n",
    "style = ttk.Style()\n",
    "style.theme_use(\"clam\")\n",
    "\n",
    "image = Image.open(\"Python.svg.png\").resize((300, 300))\n",
    "photo = ImageTk.PhotoImage(image)\n",
    "\n",
    "label1 = ttk.Label(root, text = \"Python Logo:\", image = photo, compound = \"bottom\")     #left, right, top, bottom, center\n",
    "label1.pack()\n",
    "\n",
    "root.mainloop() "
   ]
  },
  {
   "cell_type": "markdown",
   "metadata": {},
   "source": [
    "## Tkinter Variables"
   ]
  },
  {
   "cell_type": "code",
   "execution_count": 9,
   "metadata": {},
   "outputs": [],
   "source": [
    "import tkinter as tk\n",
    "from tkinter import ttk\n",
    "from PIL import Image, ImageTk\n",
    "\n",
    "root = tk.Tk()\n",
    "root.geometry(\"400x400\")\n",
    "\n",
    "label1 = ttk.Label(root, text = \"This is a string\")\n",
    "label1.pack()\n",
    "\n",
    "root.mainloop() "
   ]
  },
  {
   "cell_type": "markdown",
   "metadata": {},
   "source": [
    "**Two ways of changing the text:**"
   ]
  },
  {
   "cell_type": "code",
   "execution_count": 10,
   "metadata": {},
   "outputs": [],
   "source": [
    "import tkinter as tk\n",
    "from tkinter import ttk\n",
    "from PIL import Image, ImageTk\n",
    "\n",
    "root = tk.Tk()\n",
    "root.geometry(\"400x400\")\n",
    "\n",
    "label1 = ttk.Label(root, text = \"This is a string\")\n",
    "label1.pack()\n",
    "\n",
    "label1.configure(text = \"New String\")\n",
    "\n",
    "root.mainloop() "
   ]
  },
  {
   "cell_type": "code",
   "execution_count": 11,
   "metadata": {},
   "outputs": [],
   "source": [
    "import tkinter as tk\n",
    "from tkinter import ttk\n",
    "from PIL import Image, ImageTk\n",
    "\n",
    "root = tk.Tk()\n",
    "root.geometry(\"400x400\")\n",
    "\n",
    "label1 = ttk.Label(root, text = \"This is a string\")\n",
    "label1.pack()\n",
    "\n",
    "label1[\"text\"] = \"New String\"\n",
    "\n",
    "root.mainloop() "
   ]
  },
  {
   "cell_type": "markdown",
   "metadata": {},
   "source": [
    "**BUT:**\n",
    "- you can bound the content of the label to a variable"
   ]
  },
  {
   "cell_type": "code",
   "execution_count": 12,
   "metadata": {},
   "outputs": [],
   "source": [
    "import tkinter as tk\n",
    "from tkinter import ttk\n",
    "from PIL import Image, ImageTk\n",
    "\n",
    "root = tk.Tk()\n",
    "root.geometry(\"400x400\")\n",
    "\n",
    "text_variable = \"Text of the variable\"\n",
    "\n",
    "label1 = ttk.Label(root, text = text_variable)\n",
    "label1.pack()\n",
    "\n",
    "root.mainloop() "
   ]
  },
  {
   "cell_type": "code",
   "execution_count": 13,
   "metadata": {},
   "outputs": [],
   "source": [
    "import tkinter as tk\n",
    "from tkinter import ttk\n",
    "from PIL import Image, ImageTk\n",
    "\n",
    "root = tk.Tk()\n",
    "root.geometry(\"400x400\")\n",
    "\n",
    "text_variable = \"Text of the variable\"\n",
    "\n",
    "label1 = ttk.Label(root, text = text_variable)\n",
    "label1.pack()\n",
    "\n",
    "text_variable = \"New Text\"                      #the content of the text does not get updated\n",
    "\n",
    "root.mainloop() "
   ]
  },
  {
   "cell_type": "code",
   "execution_count": null,
   "metadata": {},
   "outputs": [],
   "source": [
    "import tkinter as tk\n",
    "from tkinter import ttk\n",
    "from PIL import Image, ImageTk\n",
    "\n",
    "root = tk.Tk()\n",
    "root.geometry(\"400x400\")\n",
    "\n",
    "text_variable = \"Text of the variable\"\n",
    "\n",
    "label1 = ttk.Label(root, textvariable = text_variable)          #does not work!\n",
    "label1.pack()\n",
    "\n",
    "text_variable = \"New Text\"\n",
    "\n",
    "root.mainloop() "
   ]
  },
  {
   "cell_type": "markdown",
   "metadata": {},
   "source": [
    "It needs a special Tkinter-Variable to work properly"
   ]
  },
  {
   "cell_type": "code",
   "execution_count": 1,
   "metadata": {},
   "outputs": [],
   "source": [
    "import tkinter as tk\n",
    "from tkinter import ttk\n",
    "from PIL import Image, ImageTk\n",
    "\n",
    "root = tk.Tk()\n",
    "root.geometry(\"400x400\")\n",
    "\n",
    "text_variable = tk.StringVar()\n",
    "text_variable.set(\"Text of the variable\")\n",
    "\n",
    "label1 = ttk.Label(root, textvariable = text_variable)          \n",
    "label1.pack()\n",
    "\n",
    "root.mainloop()"
   ]
  },
  {
   "cell_type": "markdown",
   "metadata": {},
   "source": [
    "If the `.set()` method of the `text_vriable` is called again, a new text can be assigned."
   ]
  },
  {
   "cell_type": "code",
   "execution_count": 2,
   "metadata": {},
   "outputs": [],
   "source": [
    "import tkinter as tk\n",
    "from tkinter import ttk\n",
    "from PIL import Image, ImageTk\n",
    "\n",
    "root = tk.Tk()\n",
    "root.geometry(\"400x400\")\n",
    "\n",
    "text_variable = tk.StringVar()\n",
    "text_variable.set(\"Text of the variable\")\n",
    "\n",
    "label1 = ttk.Label(root, textvariable = text_variable)          \n",
    "label1.pack()\n",
    "\n",
    "text_variable.set(\"New text of the variable\")\n",
    "\n",
    "root.mainloop()"
   ]
  },
  {
   "cell_type": "markdown",
   "metadata": {},
   "source": [
    "**Other Tkinter variables:**\n",
    "- doublevariable\n",
    "- integervariable\n",
    "- booleanvariable "
   ]
  },
  {
   "cell_type": "code",
   "execution_count": 3,
   "metadata": {},
   "outputs": [],
   "source": [
    "import tkinter as tk\n",
    "from tkinter import ttk\n",
    "from PIL import Image, ImageTk\n",
    "\n",
    "root = tk.Tk()\n",
    "root.geometry(\"400x400\")\n",
    "\n",
    "text_variable = tk.IntVar()\n",
    "text_variable.set(2345)\n",
    "\n",
    "label1 = ttk.Label(root, textvariable = text_variable)          \n",
    "label1.pack()\n",
    "\n",
    "text_variable.set(6789)\n",
    "\n",
    "root.mainloop()"
   ]
  },
  {
   "cell_type": "code",
   "execution_count": 5,
   "metadata": {},
   "outputs": [],
   "source": [
    "import tkinter as tk\n",
    "from tkinter import ttk\n",
    "from PIL import Image, ImageTk\n",
    "\n",
    "root = tk.Tk()\n",
    "root.geometry(\"400x400\")\n",
    "\n",
    "text_variable = tk.BooleanVar()\n",
    "text_variable.set(True)                                     #is displayed as 1\n",
    "\n",
    "label1 = ttk.Label(root, textvariable = text_variable)          \n",
    "label1.pack()\n",
    "\n",
    "text_variable.set(False)                                    #is displayed as 0\n",
    "\n",
    "root.mainloop()"
   ]
  },
  {
   "cell_type": "code",
   "execution_count": null,
   "metadata": {},
   "outputs": [],
   "source": []
  }
 ],
 "metadata": {
  "interpreter": {
   "hash": "aee8b7b246df8f9039afb4144a1f6fd8d2ca17a180786b69acc140d282b71a49"
  },
  "kernelspec": {
   "display_name": "Python 3.11.0 64-bit",
   "name": "python3"
  },
  "language_info": {
   "codemirror_mode": {
    "name": "ipython",
    "version": 3
   },
   "file_extension": ".py",
   "mimetype": "text/x-python",
   "name": "python",
   "nbconvert_exporter": "python",
   "pygments_lexer": "ipython3",
   "version": "3.11.0"
  },
  "orig_nbformat": 4
 },
 "nbformat": 4,
 "nbformat_minor": 2
}
